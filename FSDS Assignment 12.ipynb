{
 "cells": [
  {
   "cell_type": "code",
   "execution_count": 1,
   "id": "d9f1ff6a",
   "metadata": {},
   "outputs": [],
   "source": [
    "#1. In what modes should the PdfFileReader() and PdfFileWriter() File objects will be opened?\n",
    "#Solution: These files will be opened in binary mode., read binary (rb) for PdfFileReader() and write binary (wb) for PdfFileWriter()."
   ]
  },
  {
   "cell_type": "code",
   "execution_count": 4,
   "id": "dd1f9a49",
   "metadata": {},
   "outputs": [],
   "source": [
    "#2. From a PdfFileReader object, how do you get a Page object for page 5?\n",
    "#Solution: Calling getPage(4) will return a Page object for page 5 since page 0 is the first page."
   ]
  },
  {
   "cell_type": "code",
   "execution_count": 3,
   "id": "11772de6",
   "metadata": {},
   "outputs": [],
   "source": [
    "#3. What PdfFileReader variable stores the number of pages in the PDF document?\n",
    "#Solution: The total number of pages in the document is stored in the numPages attribute of a PdfFileReader object. "
   ]
  },
  {
   "cell_type": "code",
   "execution_count": 5,
   "id": "ddcc6b4e",
   "metadata": {},
   "outputs": [],
   "source": [
    "#4. If a PdfFileReader object’s PDF is encrypted with the password swordfish, what must you do before you can obtain Page objects from it?\n",
    "#Solution: Before we obtain the page object, the pdf has to be decrypted by calling .decrypt('swordfish')."
   ]
  },
  {
   "cell_type": "code",
   "execution_count": 6,
   "id": "fa757a42",
   "metadata": {},
   "outputs": [],
   "source": [
    "#5. What methods do you use to rotate a page?\n",
    "#Solution: The rotateClockwise() and rotateCounterClockwise() methods are used. The degrees to rotate is passed as an integer argument."
   ]
  },
  {
   "cell_type": "code",
   "execution_count": 7,
   "id": "028e9553",
   "metadata": {},
   "outputs": [
    {
     "data": {
      "text/plain": [
       "'Solution: Paragraph Object : A document contains multiple paragraphs. A paragraph begins on a new line and contains multiple runs. The Document object contains a list of Paragraph objects for the paragraphs in the document. (A new paragraph begins whenever the user presses ENTER or RETURN while typing in a Word document.)\\nRun Objects : Runs are contiguous groups of characters within a paragraph with the same style.'"
      ]
     },
     "execution_count": 7,
     "metadata": {},
     "output_type": "execute_result"
    }
   ],
   "source": [
    "#6. What is the difference between a Run object and a Paragraph object?\n",
    "\"\"\"Solution: Paragraph Object : A document contains multiple paragraphs. A paragraph begins on a new line and contains multiple runs. The Document object contains a list of Paragraph objects for the paragraphs in the document. (A new paragraph begins whenever the user presses ENTER or RETURN while typing in a Word document.)\n",
    "Run Objects : Runs are contiguous groups of characters within a paragraph with the same style.\"\"\""
   ]
  },
  {
   "cell_type": "code",
   "execution_count": 8,
   "id": "cf11f0dc",
   "metadata": {},
   "outputs": [],
   "source": [
    "#7. How do you obtain a list of Paragraph objects for a Document object that’s stored in a variable named doc?\n",
    "#Solution:By using doc.paragraphs\n",
    "#       !pip install python-docx\n",
    "#       import docx\n",
    "#       doc = docx.Document('abc.docx')\n",
    "#       doc.paragraphs"
   ]
  },
  {
   "cell_type": "code",
   "execution_count": 9,
   "id": "29dfb5a1",
   "metadata": {},
   "outputs": [],
   "source": [
    "#8. What type of object has bold, underline, italic, strike, and outline variables?\n",
    "#Solution: A Run object has bold, underline,italic,strike and outline variables."
   ]
  },
  {
   "cell_type": "code",
   "execution_count": 10,
   "id": "c369d0d6",
   "metadata": {},
   "outputs": [],
   "source": [
    "#9. What is the difference between False, True, and None for the bold variable?\n",
    "#Solution: Runs can be further styled using text attributes. Each attribute can be set to one of three values:\n",
    "#  True (the attribute is always enabled, no matter what other styles are applied to the run),\n",
    "#  False (the attribute is always disabled),\n",
    "#  None (defaults to whatever the run’s style is set to)\n",
    "#  True always makes the Run object bolded.\n",
    "#  False makes it always not bolded, no matter what the style’s bold setting is. \n",
    "#  None will make the Run object just use the style’s bold setting."
   ]
  },
  {
   "cell_type": "code",
   "execution_count": 11,
   "id": "8b684997",
   "metadata": {},
   "outputs": [],
   "source": [
    "#10. How do you create a Document object for a new Word document?\n",
    "#Solution: By Calling the docx.Document() function."
   ]
  },
  {
   "cell_type": "code",
   "execution_count": 12,
   "id": "bcd4aaa5",
   "metadata": {},
   "outputs": [],
   "source": [
    "#11. How do you add a paragraph with the text 'Hello, there!' to a Document object stored in a variable named doc?\n",
    "#Solution: \n",
    "#  import docx\n",
    "#  doc = docx.Document()\n",
    "#  doc.add_paragraph('Hello there!')\n",
    "#  doc.save('hellothere.docx')"
   ]
  },
  {
   "cell_type": "code",
   "execution_count": 14,
   "id": "6d4cc952",
   "metadata": {},
   "outputs": [],
   "source": [
    "#12. What integers represent the levels of headings available in Word documents?\n",
    "#Solution: Integer from 0 to 4 represent the levels of headings available in word documents.\n",
    "#   The arguments to add_heading() are a string of the heading text and an integer from 0 to 4.\n",
    "#   The integer 0 makes the heading the Title style, which is used for the top of the document.\n",
    "#   Integers 1 to 4 are for various heading levels, with 1 being the main heading and 4 the lowest subheading."
   ]
  }
 ],
 "metadata": {
  "kernelspec": {
   "display_name": "Python 3 (ipykernel)",
   "language": "python",
   "name": "python3"
  },
  "language_info": {
   "codemirror_mode": {
    "name": "ipython",
    "version": 3
   },
   "file_extension": ".py",
   "mimetype": "text/x-python",
   "name": "python",
   "nbconvert_exporter": "python",
   "pygments_lexer": "ipython3",
   "version": "3.9.7"
  }
 },
 "nbformat": 4,
 "nbformat_minor": 5
}
